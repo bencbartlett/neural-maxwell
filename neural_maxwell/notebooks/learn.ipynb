{
 "cells": [
  {
   "cell_type": "code",
   "execution_count": 1,
   "metadata": {},
   "outputs": [],
   "source": [
    "import numpy as np\n",
    "import torch\n",
    "import torch.nn as nn\n",
    "import torch.nn.functional as F\n",
    "import scipy.sparse as sp\n",
    "from angler import Simulation\n",
    "from angler.derivatives import unpack_derivs"
   ]
  },
  {
   "cell_type": "code",
   "execution_count": 2,
   "metadata": {},
   "outputs": [],
   "source": [
    "from numpy import pi\n",
    "from torch import device as torch_device\n",
    "\n",
    "# Refractive indices and permittivities ================================================================================\n",
    "\n",
    "N_si = 3.48  # silicon\n",
    "eps_si = N_si ** 2\n",
    "\n",
    "N_sio2 = 1.44  # silicon oxide\n",
    "eps_sio2 = N_sio2 ** 2\n",
    "\n",
    "N_sinitride = 1.99  # silicon nitride\n",
    "eps_sinitride = N_sinitride ** 2\n",
    "\n",
    "# Physical constants ===================================================================================================\n",
    "OMEGA_1550 = 1.215e15  # 1550nm frequency\n",
    "OMEGA = 2*pi*5.785e9  # 1550nm frequency\n",
    "MU0 = 4 * pi * 10 ** -7  # vacuum permeability\n",
    "EPSILON0 = 8.854187817620e-12  # vacuum permittivity\n",
    "C = 299792458.0  # speed of light\n",
    "LAMBDA = C / (OMEGA / (2 * pi))  # wavelength\n",
    "k = 2*pi/LAMBDA  # wave number\n",
    "# BUFFER_PERMITTIVITY = -1e20  # near infinite permittivity for cavity boundaries\n",
    "BUFFER_PERMITTIVITY = 1.0  # vacuum permittivity if using PML\n",
    "\n",
    "# Design space size ====================================================================================================\n",
    "DEVICE_LENGTH = 64  # length of permittivity region\n",
    "DEVICE_LENGTH_2D = 32\n",
    "NPML = 4  # number of PMLs\n",
    "BUFFER_LENGTH = 4  # buffer size before NPML (reflective boundary if using cavity)\n",
    "SCALE = 1e-9 # 这个参数可能只是为了把omega中的e15缩放下来，不影响结果\n",
    "# L0 = 1e-6 # 长度参数，Simulations库中所有的长度单位都以L0为单位\n",
    "L0 = 1 # 长度参数，Simulations库中所有的长度单位都以L0为单位\n",
    "dL = 0.05 # Simulations中网格间距，实际距离是dL*L0\n",
    "PIXEL_SIZE = dL * L0\n",
    "\n",
    "# Device configuration =================================================================================================\n",
    "\n",
    "device = torch_device('cpu')\n"
   ]
  },
  {
   "cell_type": "code",
   "execution_count": 3,
   "metadata": {},
   "outputs": [],
   "source": [
    "def maxwell_residual_2d(fields, epsilons, curl_curl_op,npml=NPML, \n",
    "                        buffer_length = BUFFER_LENGTH, buffer_permittivity = BUFFER_PERMITTIVITY,\n",
    "                        add_buffer = True, trim_buffer = True):\n",
    "    # nplm 是绝对吸收层的数量，电磁波传输到这里会被完全吸收\n",
    "    # buffer_length 在场区的边缘添加一点点区域，然后将这里的介电系数设置为buffer_permittivity（通常取较大的值），这样可以近似认为电磁波在这里被吸收了\n",
    "    '''Compute ∇×∇×E - omega^2 mu0 epsilon E'''\n",
    "#     batch_size,c, W, H = fields.shape # 二维场区的宽和高，加batchsize，和通道数，构成一个四维张量\n",
    "    W, H = fields.shape # 二维场区的宽和高，加batchsize，和通道数，构成一个四维张量\n",
    "    \n",
    "    epsilons *= torch.ones_like(fields) # 将介电系数扩展为和fields一样的形状，这样就可以直接相乘了\n",
    "    \n",
    "    # Add zero field amplitudes at edge points for resonator BC's\n",
    "    if add_buffer:\n",
    "        fields = F.pad(fields, [buffer_length+npml] * 4)\n",
    "        W += 2 * (buffer_length+npml)\n",
    "        H += 2 * (buffer_length+npml)\n",
    "    fields = fields.view(-1, 1)\n",
    "    \n",
    "    # Add first layer of cavity BC's\n",
    "    if add_buffer:\n",
    "        epsilons = F.pad(epsilons, [buffer_length+npml] * 4, \"constant\", buffer_permittivity)\n",
    "    epsilons = epsilons.view(-1, 1)\n",
    "    \n",
    "    # Compute Maxwell operator on fields\n",
    "    curl_curl_E = (SCALE / L0 ** 2) * torch.matmul(curl_curl_op, fields).view( -1, 1)\n",
    "    epsilon_E = (SCALE * -OMEGA ** 2 * MU0 * EPSILON0) * epsilons * fields\n",
    "    \n",
    "    out = curl_curl_E - epsilon_E\n",
    "    out = out.view(W, H)\n",
    "    \n",
    "    if trim_buffer and buffer_length > 0:\n",
    "        clip = buffer_length+npml\n",
    "        return out[..., clip:-clip, clip:-clip] #把加入的buffer区域去掉\n",
    "    else:\n",
    "        return out"
   ]
  },
  {
   "cell_type": "code",
   "execution_count": 4,
   "metadata": {},
   "outputs": [],
   "source": [
    "class Simulation2D:\n",
    "    '''FDFD simulation of a 2-dimensional  system'''\n",
    "\n",
    "    def __init__(self, mode = \"Ez\", device_length = DEVICE_LENGTH_2D, npml = 4, buffer_length = BUFFER_LENGTH,\n",
    "                 buffer_permittivity = 1.0, dl = dL, l0 = L0, use_dirichlet_bcs = False):\n",
    "        # device_length: 二维场区的宽和高\n",
    "        # npml: 绝对吸收层的数量，电磁波传输到这里会被完全吸收\n",
    "        # buffer_length: 在场区的边缘添加一点点区域，然后将这里的介电系数设置为buffer_permittivity（通常取较大的值），这样可以近似认为电磁波在这里被吸收了\n",
    "        # dl: 网格间距，单位是l0\n",
    "        self.mode = mode\n",
    "        self.device_length = device_length\n",
    "        self.npml = npml\n",
    "        self.buffer_length = buffer_length\n",
    "        self.buffer_permittivity = buffer_permittivity\n",
    "        self.dl = dl\n",
    "        self.L0 = l0\n",
    "        self.use_dirichlet_bcs = use_dirichlet_bcs\n",
    "    \n",
    "    def get_operators(self, omega = OMEGA):\n",
    "        total_length = self.device_length + 2 * self.buffer_length + 2 * self.npml\n",
    "        \n",
    "        perms = np.ones((total_length, total_length), dtype = np.float64)\n",
    "        start = self.npml + self.buffer_length\n",
    "        end = start + self.device_length\n",
    "        \n",
    "        # set permittivity and reflection zone\n",
    "        perms[:, :start] = self.buffer_permittivity\n",
    "        perms[:start, :] = self.buffer_permittivity\n",
    "        perms[:, end:] = self.buffer_permittivity\n",
    "        perms[end:, :] = self.buffer_permittivity\n",
    "        \n",
    "        sim = Simulation(omega, perms, self.dl, [self.npml, self.npml], self.mode, L0 = self.L0)\n",
    "        Dyb, Dxb, Dxf, Dyf = unpack_derivs(sim.derivs)\n",
    "        \n",
    "        N = np.asarray(perms.shape)\n",
    "        M = np.prod(N)\n",
    "        \n",
    "        vector_eps_z = EPSILON0 * self.L0 * perms.reshape((-1,))\n",
    "        T_eps_z = sp.spdiags(vector_eps_z, 0, M, M, format = 'csr')\n",
    "\n",
    "        curl_curl = (Dxf @ Dxb + Dyf @ Dyb)\n",
    "\n",
    "        other = omega ** 2 * MU0 * self.L0 * T_eps_z\n",
    "\n",
    "        return curl_curl.todense(), other.todense()"
   ]
  },
  {
   "cell_type": "code",
   "execution_count": 5,
   "metadata": {},
   "outputs": [],
   "source": [
    "class MaxwellSolver2D(nn.Module):\n",
    "\n",
    "    def __init__(self, dl,size = 32, buffer_length = 4, buffer_permittivity = 1.0, npml = 4, src_x = 16, add_buffer=True,\n",
    "                 src_y = 16, channels = None, kernels = None, drop_p = 0.1):\n",
    "\n",
    "        super().__init__()\n",
    "\n",
    "        self.size = size\n",
    "        self.src_x = src_x\n",
    "        self.src_y = src_y\n",
    "        self.npml = npml\n",
    "        self.use_complex = (self.npml > 0)\n",
    "        self.add_buffer = add_buffer\n",
    "        self.buffer_length = buffer_length\n",
    "        self.buffer_permittivity = buffer_permittivity\n",
    "        self.drop_p = drop_p\n",
    "        self.dl = dl\n",
    "        self.sim = Simulation2D(device_length = self.size, buffer_length = self.buffer_length, npml = self.npml,\n",
    "                                buffer_permittivity = self.buffer_permittivity,dl = self.dl)\n",
    "        curl_curl_op, _ = self.sim.get_operators()\n",
    "        self.curl_curl_op = torch.tensor(np.asarray(np.real(curl_curl_op)), device = device).float()\n",
    "    def get_Mawell_loss(self, fields, epsilons, trim_buffer = True):\n",
    "        # Compute Maxwell operator on fields\n",
    "        residuals = maxwell_residual_2d(fields, epsilons, self.curl_curl_op,\n",
    "                                        buffer_length = self.buffer_length, add_buffer = self.add_buffer, trim_buffer = trim_buffer)\n",
    "        return residuals"
   ]
  },
  {
   "cell_type": "code",
   "execution_count": null,
   "metadata": {},
   "outputs": [],
   "source": [
    "aa = torch.tensor([1,2,3])\n",
    "print(aa[1:-1])"
   ]
  },
  {
   "cell_type": "code",
   "execution_count": 6,
   "metadata": {},
   "outputs": [
    {
     "name": "stdout",
     "output_type": "stream",
     "text": [
      "torch.Size([448, 448])\n"
     ]
    }
   ],
   "source": [
    "x = np.linspace(0,0.24,448)\n",
    "y = np.linspace(0,0.24,448)\n",
    "xf,yf = np.meshgrid(x,y)\n",
    "dx = x[1]-x[0]\n",
    "dy = y[1]-y[0]\n",
    "R = np.abs(xf+yf)/np.sqrt(2)\n",
    "\n",
    "E = torch.tensor(np.real(np.exp(-1j*k*R)),dtype=torch.float32)\n",
    "\n",
    "dE_x = torch.diff(E[1:-1,:],2,1)/dx**2\n",
    "dE_y = torch.diff(E[:,1:-1],2,0)/dy**2\n",
    "\n",
    "maxwell_loss = dE_x+dE_y+k**2*E[1:-1,1:-1]\n",
    "print(E.shape)"
   ]
  },
  {
   "cell_type": "code",
   "execution_count": 7,
   "metadata": {},
   "outputs": [
    {
     "name": "stdout",
     "output_type": "stream",
     "text": [
      "torch.Size([64, 64])\n"
     ]
    }
   ],
   "source": [
    "EE = E.view(-1,64,64)\n",
    "print(EE[0].shape)"
   ]
  },
  {
   "cell_type": "code",
   "execution_count": 12,
   "metadata": {},
   "outputs": [
    {
     "name": "stdout",
     "output_type": "stream",
     "text": [
      "tensor(6.4687e-06)\n"
     ]
    }
   ],
   "source": [
    "test = MaxwellSolver2D(size=EE.shape[-1],dl=dx)\n",
    "test_loss = test.get_Mawell_loss(EE[0],1.0)\n",
    "for i in range(1,EE.shape[0]):\n",
    "    test_loss += test.get_Mawell_loss(EE[i],1.0)\n",
    "\n",
    "print(torch.mean(test_loss))"
   ]
  },
  {
   "cell_type": "code",
   "execution_count": null,
   "metadata": {},
   "outputs": [],
   "source": []
  }
 ],
 "metadata": {
  "kernelspec": {
   "display_name": "pytorch",
   "language": "python",
   "name": "pytorch"
  },
  "language_info": {
   "codemirror_mode": {
    "name": "ipython",
    "version": 3
   },
   "file_extension": ".py",
   "mimetype": "text/x-python",
   "name": "python",
   "nbconvert_exporter": "python",
   "pygments_lexer": "ipython3",
   "version": "3.9.15"
  },
  "vscode": {
   "interpreter": {
    "hash": "d8e0e1919a95824482f7c7ed5b9775f8717706ba4fd6cb589a6d66ba4fe99650"
   }
  }
 },
 "nbformat": 4,
 "nbformat_minor": 2
}
